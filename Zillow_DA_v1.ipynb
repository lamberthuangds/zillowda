{
 "cells": [
  {
   "cell_type": "code",
   "execution_count": 1,
   "metadata": {},
   "outputs": [],
   "source": [
    "import numpy as np\n",
    "import pandas as pd"
   ]
  },
  {
   "cell_type": "code",
   "execution_count": null,
   "metadata": {},
   "outputs": [],
   "source": [
    "df_zip_condo = pd.read_csv(\"Zip_Zhvi_Condominum.csv\")\n",
    "df_zip_sfr = pd.read_csv(\"Zip_Zhvi_SingleFamilyResidence.csv.csv\")\n",
    "df_county_condo = pd.read_csv(\"County_Zhvi_Condominum.csv\")\n",
    "df_county_sfr = pd.read_csv(\"County_Zhvi_SingleFamilyResidence.csv\")\n",
    "df_metro_condo = pd.read_csv(\"Metro_Zhvi_Condominum.csv\")\n",
    "df_metro_sfr = pd.read_csv(\"Metro_Zhvi_SingleFamilyResidence.csv\")\n",
    "df_state_condo = pd.read_csv(\"State_Zhvi_Condominum.csv\")\n",
    "df_state_sfr = pd.read_csv(\"State_Zhvi_SingleFamilyResidence.csv\")\n"
   ]
  }
 ],
 "metadata": {
  "kernelspec": {
   "display_name": "Python 3",
   "language": "python",
   "name": "python3"
  },
  "language_info": {
   "codemirror_mode": {
    "name": "ipython",
    "version": 3
   },
   "file_extension": ".py",
   "mimetype": "text/x-python",
   "name": "python",
   "nbconvert_exporter": "python",
   "pygments_lexer": "ipython3",
   "version": "3.6.4"
  }
 },
 "nbformat": 4,
 "nbformat_minor": 2
}
